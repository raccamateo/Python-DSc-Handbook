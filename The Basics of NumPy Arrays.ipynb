{
 "cells": [
  {
   "cell_type": "code",
   "execution_count": null,
   "id": "5b05cbdc",
   "metadata": {},
   "outputs": [],
   "source": [
    "#defining three random arrays, a one-dimensional, two-dimensional, and three-dimensional \n",
    "#array using NumPy's random number generator"
   ]
  },
  {
   "cell_type": "code",
   "execution_count": 1,
   "id": "f95cd8ff",
   "metadata": {},
   "outputs": [],
   "source": [
    "import numpy as np\n",
    "np.random.seed(0)  # seed for reproducibility\n",
    "\n",
    "x1 = np.random.randint(10, size=6)  # One-dimensional array\n",
    "x2 = np.random.randint(10, size=(3, 4))  # Two-dimensional array\n",
    "x3 = np.random.randint(10, size=(3, 4, 5))  # Three-dimensional array"
   ]
  },
  {
   "cell_type": "code",
   "execution_count": 2,
   "id": "7562ef64",
   "metadata": {},
   "outputs": [],
   "source": [
    "#attributes: \n",
    "#ndim (the number of dimensions)\n",
    "#shape (the size of each dimension)\n",
    "#size (the total size of the array)"
   ]
  },
  {
   "cell_type": "code",
   "execution_count": null,
   "id": "739f7a44",
   "metadata": {},
   "outputs": [],
   "source": [
    "print(\"x3 ndim: \", x3.ndim)\n",
    "print(\"x3 shape:\", x3.shape)\n",
    "print(\"x3 size: \", x3.size)"
   ]
  }
 ],
 "metadata": {
  "kernelspec": {
   "display_name": "Python 3 (ipykernel)",
   "language": "python",
   "name": "python3"
  },
  "language_info": {
   "codemirror_mode": {
    "name": "ipython",
    "version": 3
   },
   "file_extension": ".py",
   "mimetype": "text/x-python",
   "name": "python",
   "nbconvert_exporter": "python",
   "pygments_lexer": "ipython3",
   "version": "3.9.7"
  }
 },
 "nbformat": 4,
 "nbformat_minor": 5
}
